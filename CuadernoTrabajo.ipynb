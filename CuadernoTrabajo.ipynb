{
  "nbformat": 4,
  "nbformat_minor": 0,
  "metadata": {
    "colab": {
      "provenance": [],
      "authorship_tag": "ABX9TyMfz4ZE2Tm9mBwMzr+tDcg4",
      "include_colab_link": true
    },
    "kernelspec": {
      "name": "python3",
      "display_name": "Python 3"
    },
    "language_info": {
      "name": "python"
    }
  },
  "cells": [
    {
      "cell_type": "markdown",
      "metadata": {
        "id": "view-in-github",
        "colab_type": "text"
      },
      "source": [
        "<a href=\"https://colab.research.google.com/github/escuelaDeCodigoMargaritaMaza/Python/blob/main/CuadernoTrabajo.ipynb\" target=\"_parent\"><img src=\"https://colab.research.google.com/assets/colab-badge.svg\" alt=\"Open In Colab\"/></a>"
      ]
    },
    {
      "cell_type": "code",
      "source": [
        "print(\"Me gusta \\\" Python \\\" \")"
      ],
      "metadata": {
        "id": "zhLZ5EPgoi20",
        "colab": {
          "base_uri": "https://localhost:8080/"
        },
        "outputId": "863c1d94-a62a-427b-bb53-397d7105c443"
      },
      "execution_count": null,
      "outputs": [
        {
          "output_type": "stream",
          "name": "stdout",
          "text": [
            "Me gusta \" Python \" \n"
          ]
        }
      ]
    },
    {
      "cell_type": "code",
      "source": [
        "print(\"Me gusta \\t Monty Python \")"
      ],
      "metadata": {
        "id": "aWuF3z8eomnD",
        "colab": {
          "base_uri": "https://localhost:8080/"
        },
        "outputId": "d1bf928a-2064-43a1-f587-78ce26b41c7d"
      },
      "execution_count": null,
      "outputs": [
        {
          "output_type": "stream",
          "name": "stdout",
          "text": [
            "Me gusta \t Monty Python \n"
          ]
        }
      ]
    },
    {
      "cell_type": "code",
      "source": [
        "print(\"Me gusta \\n Monty Python \")"
      ],
      "metadata": {
        "id": "pn8KwkTMop8K",
        "colab": {
          "base_uri": "https://localhost:8080/"
        },
        "outputId": "dde9cf23-10c2-4e19-8c0b-9a9eff16553e"
      },
      "execution_count": null,
      "outputs": [
        {
          "output_type": "stream",
          "name": "stdout",
          "text": [
            "Me gusta \n",
            " Monty Python \n"
          ]
        }
      ]
    },
    {
      "cell_type": "code",
      "source": [
        "multilinea = \"\"\"Datos de contrucción:\n",
        "Rangos de error.\n",
        "Datos a validar\"\"\"\n",
        "print(multilinea)"
      ],
      "metadata": {
        "id": "zhDgc6LJo0SF",
        "colab": {
          "base_uri": "https://localhost:8080/"
        },
        "outputId": "6076819d-14cf-4f47-ebb8-5193ca71aa73"
      },
      "execution_count": null,
      "outputs": [
        {
          "output_type": "stream",
          "name": "stdout",
          "text": [
            "Datos de contrucción:\n",
            "Rangos de error.\n",
            "Datos a validar\n"
          ]
        }
      ]
    },
    {
      "cell_type": "code",
      "source": [
        "nombre = 'PILARES'\n",
        "print(f'En los diferentes centros {nombre} podrás encontrar diversas opciones')"
      ],
      "metadata": {
        "id": "6YuI-C3Lo3tg",
        "colab": {
          "base_uri": "https://localhost:8080/"
        },
        "outputId": "3d5c34b7-ede5-43d6-b7e0-7c5b133f57c9"
      },
      "execution_count": null,
      "outputs": [
        {
          "output_type": "stream",
          "name": "stdout",
          "text": [
            "En los diferentes centros PILARES podrás encontrar diversas opciones\n"
          ]
        }
      ]
    },
    {
      "cell_type": "code",
      "source": [
        "nombre = 'PILARES'\n",
        "taller = 'Escuela de Código'\n",
        "ciudad = 'CDMX'\n",
        "print(f'En los centros {nombre}, puedes encontrar la {taller}\\n ... exiten 140 {nombre} en donde se oferta el taller en toda la {ciudad}')"
      ],
      "metadata": {
        "colab": {
          "base_uri": "https://localhost:8080/"
        },
        "id": "xIR-m40To6Xx",
        "outputId": "8c7c15cd-96b1-490b-a5d3-6c1b175ee666"
      },
      "execution_count": null,
      "outputs": [
        {
          "output_type": "stream",
          "name": "stdout",
          "text": [
            "En los centros PILARES, puedes encontrar la Escuela de Código\n",
            " ... exiten 140 PILARES en donde se oferta el taller en toda la CDMX\n"
          ]
        }
      ]
    },
    {
      "cell_type": "code",
      "source": [
        "print(\"*\" * 15)"
      ],
      "metadata": {
        "id": "WuUorO1MpIag",
        "colab": {
          "base_uri": "https://localhost:8080/"
        },
        "outputId": "b0e2b80f-fa04-45f3-ff64-bbea7cb6d8f3"
      },
      "execution_count": null,
      "outputs": [
        {
          "output_type": "stream",
          "name": "stdout",
          "text": [
            "***************\n"
          ]
        }
      ]
    },
    {
      "cell_type": "markdown",
      "source": [
        "# Ejercicio\n",
        "\n",
        "![image.png](data:image/png;base64,iVBORw0KGgoAAAANSUhEUgAAAQUAAABOCAIAAACmHJTdAAAKeUlEQVR4nO2drbKrOhSA171zFaamogqDqEJm5sygMX2CqG0wmD3DGzB9g85gamK26hMcg65CoipqUFvU1KCv4CcBEiD83N3esz5zzoZ0sfKzkhCysv769esXIAgCAAB//7QCCPJCoD0gCAftAUE4aA8IwkF7QBAO2gOCcNAeEISD9oAgnH9+WgE9SBD5tpHF3vHy06q8BjRkrgkAkKfnz1Py0+r0UFSdTE0SRP7mKlQpDZlr/kyGJtkDDZkLvE22/nw/6kYFADNaVlPMf9NCL0fvAkBD5kwWsVDum6JaYkgQ+fbjDdrIm40PyelzpRZWjTkkiHw/CmBao3j5XlrBArknQeTbkJ69UwIAJAgDktRS9OqtMPIfYXF7EHqbunHQkDnPqqGIfxRjaDNxNXze9oUgUYp8aiB7ZFM4jJ9hJadPK2TugUJSNZBSyPRZmlITyQ1lWWmqIhSKhuKt3Ks7/O7zDraRxV6VJDkdq8Sq3DfGpayTuKm1KES4O62Oe1jYHmjobqsuYhASHODL8yrD+BA6FNNl2/TseQnltSOfGpAgqh9Jgsj3Q5oUJfUxdYC+P3PX2hGAhIb1KE+CyI+C+6SOU66J3hxCTxUa7m+edyz+y9yQXkYXBM+9WLQ0ZFXJyh+4NyGLJXcFvYGGzC0Vb1fbpkxeDCTiFYCiCMuhh4bM3abnUp5U9hyWX18yLIeMS5mcjnV3cr3nxsbi97K4yNnllsF2pxZID7aRXUsxyekrzc09rW4K/9Uh+X6UwvdmFpdNIDlds+GsGbbPKkLh4RJNig51bDPVVOVyrAUPlWCbOvfEsSD9Kov28rtRsmMhgWPm6e9LpVVcKk4PNpc9LMWxjPx+TQCK7BQtRSV7FguPD5fjeRf5PmP+mPGrNQhm/E52q6tzcC6ZP++Sq+XIz5irPasnuy3As/jXNBlz+aPSgZ/KniTXhOy2kN9lmqtU0lKl/ZI88jnAcw/WxjDMoipLMvWvenh8z32hSr4fvm05BJKkNRDNl91ikj3cn7m7aVzhbbJ6cyJB5LMQekyCho33r+YIqYGxsQDKYrE2whyzMiUaMp13ROJYRlHQzkKTUpkmyffDt4Z+12C8KiSIXLNOrrf4xHNv6XQk92fu2nsK0NVwuyNV/dS2psn9mbumXdpmFvMecgHZTSbNl5LvB58BkMAxq8GslUagnAyRIBKXJCv7JsGH+LKkweWWgekEhKtSj6A192c+XiAN/Woek1zvuemGk+ZcckRNLrfMsD8CyQAvKSt9VaoeioaNAh9AyH2PghKS0zUDQUMShAEp58H2obzKJ7f3Z15NbmjoD9U9PdiQnr2SqlNQyZ7FXxP94+Qv9o1RWuxc6htZHINbrpmICyZpurXLbzKdzzPQld0QL1tKaU7FBrpWpdotOQPdpfz7Q58m4i/E/rxbVgpVVIUirgulD9t69ijek/vWGtDQACVf6JMuIvKreXq+bvz9rbNeJDxTsbqkkj2DqfaAIP8ZjWXndb//4v4l5NUhu634J92bijWUBcDxAXl9mvOlNTcBoD0gCAfnSwjCQXtAEA7aA4Jw0B4QhIP2gCActAcE4aA9IAgH7QFBOGgPCMKZ6g/U+IIubHwUN0QK39XllxcRopKiuLyIEL38rJrNNcvqD8mmKAT3ayAIB+dLCMJBe0AQDtoDgnDQHhCEg/aAIBy0BwThoD0gCAftAUE4aA8IwkF7QBDOD9oDCSK25GGQamjIov5zF0kQSU7lfjloyNhQVpA5vFl8oLWQhx34U2ieevlHR+dDe3gnVgokxcXSUDhS/09kmj2QIPqAr+vGrw7erXsUyTnHJIg+4P6wbbM4odc1pbuBG2fUyuJl6URvaqsiREDQEyJlTPyvRki2+njm5lnNqoOYZbkfE0hKcgdmnGWnFeZM3STeisnvD4btO8+z53nnNK8PnC8DGHme53lxZrrVVNewref5nOam6xT/Voflm24hxIuzxnHupsuKG3FWHWleRVjyPM+LH7Y/MNFvqlJd1RSiRxkYq3Use4+G+5vHy6o/95CcPovCbsmQF/ialGHOPM/zzikIJ+JLm8SbMf19uopoxUNd9QQwqk7mb5/QXwkp4jgI8Zg68bL0ojeRwDElwaiWCAHVj4bAnphWI6OF9UeMSk6fnrfCQafqMGfdJvF2LP3+MDmAUTPmUDdeFl0ietNSIaDk6IboUsa00okWtnjEqGHUYc7en6XtYXIAI2tjDB1ivsi5zutGiB4fomtOTCuRxSNGDbFUmLPXZMnvDzMCGCmCbgloRW8SI3qJYaf0hPShiP9V0QrRVc552qGhpsW04vQXOAmicR8rythWUEbNvQkj0lphzl6WRceH5PQJQeSXYTDz9Pw59E5pukLiftu5HD0IGZ/s9K9gXI7xvpy6ZPE5dT56hYgzAJcxV0d4nLlF194JjFXkJzl9OWXI1TyN02pWmJyuB+YWmuRpmkH/dFuuoX6By0hOv52oKJKGCHk2L79Txy+rLUvT3P5fjQ94ngCCcHD/EoJw0B4QhIP2gCActAcE4aA9IAgH7QFBOPO+P4zdK1qn6yajIXPNdT8avyg9hTKJ5t7ZJSk+fsjUbGyBhf9Bbc6xBxoKOw56KbYxTN+UsDrNrUQrb+ooea1CUXZtJIh8+/Gz27fFr5Hr1s0MeyC7LWTXuaW0kouLPu/cq82k8pSo9iSFAUnqoihcB0eyUm0KOtCQ+SFN1rLOGfZgbSR7V9TuKX1pWyl1hDSTi241i7inKFXp3lA7/sgU7EHmJjQqtbjXVMPtiR5so95eApCcjlVqRe6lnlajalO43VPJNGTKmUdzH/TiTHmfLp3vXbPYfyR44eu5p8hdXHR9XITk53QrpF7APUXl4VPNIUa5/igVVCVXuQlJFeT+TUJBark9dTbxSRQXK0LuaaWqTRJ82JCeq8R5ej5e1LIHIY5lSJVdiCn2UOTcizOALBZaRL97ykh0hdA9d/xJTlcxtZ57imH7jEkO2ZB4+BQd6sgBp0dBKT1uQl3ZB5v7N3EWcXtSVITC00opxbGMauPy5ZbBoOdYcaHbydCQMcaYb0P9uzV4GX+giULIbgumyQQveMGvRgvZtELu4UN2W8jv/b4aMxRUugmNZjG3p/m1mXw/fNtyCCRJMRDFVWPWlF2/mdCQsdBa6/X+ZfyBZghZ1Xdd4uGTfD98LWdIDQWXchPSWB24P3PX3lOArooL1Ob9mbumXRpnFvPX7amyL7fMdfhvF+ZF/IEmC0mu93xokr0IooeP2q2o6/gzQcHxbkL3Z15NNERfI03fqdM1A0HF0j1IUREKTysV9FC9PYgvWgOVTEP1wXDDnmOzmOH/QEPmQrvnkx1F0l7dL++01x2aZ650hKhpLXecP09J3ykvqrx0vz90PHwECeIvxKNlbAMA8jS+W65sfYnnSF4ozYWh9GFbz94CEB55vm78/U0WNHPEACUkl8fplB37k8Xnp/MBX92yAukyUkOVnkrurC8pwoiuAPoDIWvS+oAt7UNfCdy/hKwI2W3FP+nehKFTI34WHB+QVWnOl15+EwDaA4JwcL6EIBy0BwThoD0gCOdf09qt0kURrJQAAAAASUVORK5CYII=)"
      ],
      "metadata": {
        "id": "a8ZtmkOypBfG"
      }
    },
    {
      "cell_type": "code",
      "source": [
        "#Exponente\n",
        "print(2 ** 3)\n",
        "print(2. ** 3)"
      ],
      "metadata": {
        "id": "ng_B-jofpDe4",
        "colab": {
          "base_uri": "https://localhost:8080/"
        },
        "outputId": "f199b9f7-b772-4f6c-8985-a69955acb032"
      },
      "execution_count": null,
      "outputs": [
        {
          "output_type": "stream",
          "name": "stdout",
          "text": [
            "8\n",
            "8.0\n"
          ]
        }
      ]
    },
    {
      "cell_type": "code",
      "source": [
        "#multiplicacion\n",
        "print(2 * 3)\n",
        "print(2.0 * 3)"
      ],
      "metadata": {
        "id": "8nT_CcvqpkG5"
      },
      "execution_count": null,
      "outputs": []
    },
    {
      "cell_type": "code",
      "source": [
        "#diviion\n",
        "print(6 / 3)\n",
        "print(6. / 3)"
      ],
      "metadata": {
        "id": "ai6KJ1LopoVk",
        "colab": {
          "base_uri": "https://localhost:8080/"
        },
        "outputId": "8a363f1a-5c1f-4a13-d299-37f7495cddee"
      },
      "execution_count": null,
      "outputs": [
        {
          "output_type": "stream",
          "name": "stdout",
          "text": [
            "2.0\n",
            "2.0\n"
          ]
        }
      ]
    },
    {
      "cell_type": "code",
      "source": [
        "#division de piso\n",
        "print(6 // 3)\n",
        "print(6. // 3)"
      ],
      "metadata": {
        "id": "DulIeOvHpsgn",
        "colab": {
          "base_uri": "https://localhost:8080/"
        },
        "outputId": "dd0a770c-81d4-46fe-c38d-80f2eee18d90"
      },
      "execution_count": null,
      "outputs": [
        {
          "output_type": "stream",
          "name": "stdout",
          "text": [
            "2\n",
            "2.0\n"
          ]
        }
      ]
    },
    {
      "cell_type": "code",
      "source": [
        "#residuo\n",
        "print(14 % 4)\n",
        "print(14.0 % 4)"
      ],
      "metadata": {
        "id": "5aUw6wcApxax",
        "colab": {
          "base_uri": "https://localhost:8080/"
        },
        "outputId": "096b8bc8-6312-435e-f2fa-7898af3b4ba3"
      },
      "execution_count": null,
      "outputs": [
        {
          "output_type": "stream",
          "name": "stdout",
          "text": [
            "2\n",
            "2.0\n"
          ]
        }
      ]
    },
    {
      "cell_type": "code",
      "source": [
        "print(2 ** 2 ** 3)"
      ],
      "metadata": {
        "id": "Tmw9CmtTp-k6",
        "colab": {
          "base_uri": "https://localhost:8080/"
        },
        "outputId": "92fbe1cb-0ae7-4cfa-d230-714e71ebc534"
      },
      "execution_count": null,
      "outputs": [
        {
          "output_type": "stream",
          "name": "stdout",
          "text": [
            "256\n"
          ]
        }
      ]
    },
    {
      "cell_type": "code",
      "source": [
        "print((5 * ((25 % 13) + 100) / (2 * 13)) // 2)"
      ],
      "metadata": {
        "colab": {
          "base_uri": "https://localhost:8080/"
        },
        "id": "5NudYvVhqCOn",
        "outputId": "be7246aa-d62d-42af-fc5c-c6ee41bee04e"
      },
      "execution_count": null,
      "outputs": [
        {
          "output_type": "stream",
          "name": "stdout",
          "text": [
            "10.0\n"
          ]
        }
      ]
    },
    {
      "cell_type": "code",
      "source": [
        "print(\"Dime lo que sea...\")\n",
        "loquesea = input()\n",
        "print(\"Hmm...\", loquesea, \"... ¿en serio?\")"
      ],
      "metadata": {
        "id": "8D0ZNLFAqXSu",
        "colab": {
          "base_uri": "https://localhost:8080/"
        },
        "outputId": "07bdf387-d232-4de8-f0bd-2b6653b41e60"
      },
      "execution_count": null,
      "outputs": [
        {
          "output_type": "stream",
          "name": "stdout",
          "text": [
            "Dime lo que sea...\n",
            "kjhkjh\n",
            "Hmm... kjhkjh ... ¿en serio?\n"
          ]
        }
      ]
    },
    {
      "cell_type": "code",
      "source": [
        "dime=input(\"Dime lo que sea...\")\n",
        "print(\"Hmm...\", dime, \"... ¿en serio?\")"
      ],
      "metadata": {
        "id": "8M3sfDRFqbMm",
        "colab": {
          "base_uri": "https://localhost:8080/"
        },
        "outputId": "2d6b0f1b-7cfb-44f9-c9eb-40e0f8e7eadd"
      },
      "execution_count": null,
      "outputs": [
        {
          "output_type": "stream",
          "name": "stdout",
          "text": [
            "Dime lo que sea...fdfs\n",
            "Hmm... fdfs ... ¿en serio?\n"
          ]
        }
      ]
    },
    {
      "cell_type": "code",
      "source": [
        "numero = input(\"Ingresa un número:\")\n",
        "cuadrado = numero ** 2.0\n",
        "print(numero, \"al cuadrado es\", cuadrado)"
      ],
      "metadata": {
        "id": "ftreSY-aqjRl",
        "colab": {
          "base_uri": "https://localhost:8080/",
          "height": 217
        },
        "outputId": "a4563f70-7231-497f-9281-3721d444b145"
      },
      "execution_count": null,
      "outputs": [
        {
          "name": "stdout",
          "output_type": "stream",
          "text": [
            "Ingresa un número:5\n"
          ]
        },
        {
          "output_type": "error",
          "ename": "TypeError",
          "evalue": "ignored",
          "traceback": [
            "\u001b[0;31m---------------------------------------------------------------------------\u001b[0m",
            "\u001b[0;31mTypeError\u001b[0m                                 Traceback (most recent call last)",
            "\u001b[0;32m<ipython-input-23-137aa46ef0ab>\u001b[0m in \u001b[0;36m<cell line: 2>\u001b[0;34m()\u001b[0m\n\u001b[1;32m      1\u001b[0m \u001b[0mnumero\u001b[0m \u001b[0;34m=\u001b[0m \u001b[0minput\u001b[0m\u001b[0;34m(\u001b[0m\u001b[0;34m\"Ingresa un número:\"\u001b[0m\u001b[0;34m)\u001b[0m\u001b[0;34m\u001b[0m\u001b[0;34m\u001b[0m\u001b[0m\n\u001b[0;32m----> 2\u001b[0;31m \u001b[0mcuadrado\u001b[0m \u001b[0;34m=\u001b[0m \u001b[0mnumero\u001b[0m \u001b[0;34m**\u001b[0m \u001b[0;36m2.0\u001b[0m\u001b[0;34m\u001b[0m\u001b[0;34m\u001b[0m\u001b[0m\n\u001b[0m\u001b[1;32m      3\u001b[0m \u001b[0mprint\u001b[0m\u001b[0;34m(\u001b[0m\u001b[0mnumero\u001b[0m\u001b[0;34m,\u001b[0m \u001b[0;34m\"al cuadrado es\"\u001b[0m\u001b[0;34m,\u001b[0m \u001b[0mcuadrado\u001b[0m\u001b[0;34m)\u001b[0m\u001b[0;34m\u001b[0m\u001b[0;34m\u001b[0m\u001b[0m\n",
            "\u001b[0;31mTypeError\u001b[0m: unsupported operand type(s) for ** or pow(): 'str' and 'float'"
          ]
        }
      ]
    },
    {
      "cell_type": "code",
      "source": [
        "numero = int(input(\"Ingresa un número:\"))\n",
        "cuadrado = numero ** 2\n",
        "print(numero, \"al cuadrado es\", cuadrado)"
      ],
      "metadata": {
        "id": "NAaE_CBfqvY8"
      },
      "execution_count": null,
      "outputs": []
    },
    {
      "cell_type": "code",
      "source": [
        "fnam = input(\"¿Me puedes dar tu nombre por favor? \")\n",
        "lnam = input(\"¿Me puedes dar tu apellido por favor? \")\n",
        "print(\"Gracias. \")\n",
        "print(\"\\nTu nombre es \" + fnam + \" \" + lnam + \".\")"
      ],
      "metadata": {
        "id": "ntBLYrQkq_A0",
        "colab": {
          "base_uri": "https://localhost:8080/"
        },
        "outputId": "8c45e950-eb52-46fe-8bce-3793d94fd5c0"
      },
      "execution_count": null,
      "outputs": [
        {
          "output_type": "stream",
          "name": "stdout",
          "text": [
            "¿Me puedes dar tu nombre por favor? asd\n",
            "¿Me puedes dar tu apellido por favor? asdsad\n",
            "Gracias. \n",
            "\n",
            "Tu nombre es asd asdsad.\n"
          ]
        }
      ]
    },
    {
      "cell_type": "code",
      "source": [
        "print(\"+\" + 10 * \"-\" + \"+\")\n",
        "print((\"|\" + \" \" * 10 + \"|\\n\") * 5, end=\"\")\n",
        "print(\"+\" + 10 * \"-\" + \"+\")"
      ],
      "metadata": {
        "id": "ifEZZfYErBmc",
        "colab": {
          "base_uri": "https://localhost:8080/"
        },
        "outputId": "78de1045-c5f3-4db6-f9ad-d2febe24953d"
      },
      "execution_count": null,
      "outputs": [
        {
          "output_type": "stream",
          "name": "stdout",
          "text": [
            "+----------+\n",
            "|          |\n",
            "|          |\n",
            "|          |\n",
            "|          |\n",
            "|          |\n",
            "+----------+\n"
          ]
        }
      ]
    },
    {
      "cell_type": "code",
      "source": [
        "paises = ['Canada', 'EU', 'México', 'Guatemala', 'Belice', 'Honduras', 'El Salvador', 'Micaragua']"
      ],
      "metadata": {
        "id": "84oq8qTyr71c"
      },
      "execution_count": null,
      "outputs": []
    },
    {
      "cell_type": "code",
      "source": [
        "print('El primer país es', paises[0])\n",
        "print('El segundo país es', paises[1])\n",
        "print('El tercer país es', paises[2])\n",
        "print('El tercer país es', paises[15])"
      ],
      "metadata": {
        "id": "SI4fbiXrr_ZT"
      },
      "execution_count": null,
      "outputs": []
    },
    {
      "cell_type": "code",
      "source": [
        "paises[1] = 'América'\n",
        "print('Eu es mal llamado también', paises[1])"
      ],
      "metadata": {
        "id": "wbM2cCresIjC"
      },
      "execution_count": null,
      "outputs": []
    },
    {
      "cell_type": "code",
      "source": [
        "numero_de_paises = len(paises)\n",
        "print('Hay', numero_de_paises, 'paises en la lista')"
      ],
      "metadata": {
        "id": "hbEsQ9OesLOH",
        "colab": {
          "base_uri": "https://localhost:8080/"
        },
        "outputId": "5f5f2e9a-8723-45d9-f962-911cd5cd3185"
      },
      "execution_count": null,
      "outputs": [
        {
          "output_type": "stream",
          "name": "stdout",
          "text": [
            "Hay 8 paises en la lista\n"
          ]
        }
      ]
    },
    {
      "cell_type": "code",
      "source": [
        "paises.append('Panama')\n",
        "numero_de_paises = len(paises)\n",
        "print('Ahora la lista de paises es de ', numero_de_paises, 'paises.')"
      ],
      "metadata": {
        "id": "fbgwvqE_sOFi"
      },
      "execution_count": null,
      "outputs": []
    },
    {
      "cell_type": "code",
      "source": [
        "paises.pop()\n",
        "numero_de_paises = len(paises)\n",
        "print('Ahora la lista de paises vuelve a ser de' , numero_de_paises, 'paises.')\n",
        "paises"
      ],
      "metadata": {
        "id": "1ASKYWxRsZVw"
      },
      "execution_count": null,
      "outputs": []
    },
    {
      "cell_type": "code",
      "source": [
        "print('El último país es ', paises[-1])\n",
        "print('El penúltimo país es ', paises[-2])"
      ],
      "metadata": {
        "id": "KWtZtdMkscZN"
      },
      "execution_count": null,
      "outputs": []
    },
    {
      "cell_type": "code",
      "source": [
        "mex_index = paises.index('México')\n",
        "print('México es el', mex_index + 1, 'er pais de la lista')"
      ],
      "metadata": {
        "id": "lxSXCCSbslsR",
        "colab": {
          "base_uri": "https://localhost:8080/"
        },
        "outputId": "d30c51e9-76ad-4f90-8376-054181120762"
      },
      "execution_count": null,
      "outputs": [
        {
          "output_type": "stream",
          "name": "stdout",
          "text": [
            "México es el 3 er pais de la lista\n"
          ]
        }
      ]
    },
    {
      "cell_type": "code",
      "source": [
        "poblacion = [37.8, 330.6, 127.1, 16.9, 0.4, 9.2, 6.7, 6.5]"
      ],
      "metadata": {
        "id": "kzekLTCdPT39"
      },
      "execution_count": null,
      "outputs": []
    },
    {
      "cell_type": "code",
      "source": [
        "print(f'el total de población de todos los paises es {sum(poblacion)} ')"
      ],
      "metadata": {
        "id": "Jvitw9gKtKTC"
      },
      "execution_count": null,
      "outputs": []
    },
    {
      "cell_type": "code",
      "source": [
        "print('En',paises[2],' Hay ',abs(poblacion[0]-poblacion[2]),'millones mas habitantes que en ',paises[0])"
      ],
      "metadata": {
        "id": "uHRSQ8lLtM84",
        "colab": {
          "base_uri": "https://localhost:8080/"
        },
        "outputId": "c4c7f57a-6a36-484f-b295-f312ae6cbbf6"
      },
      "execution_count": null,
      "outputs": [
        {
          "output_type": "stream",
          "name": "stdout",
          "text": [
            "En México  Hay  89.3 millones mas habitantes que en  Canada\n"
          ]
        }
      ]
    },
    {
      "cell_type": "code",
      "source": [
        "print('El mayor número de habitantes de la lista es ',max(poblacion))\n",
        "print('El menor número de habitantes de la lista es ',min(poblacion))"
      ],
      "metadata": {
        "id": "OhpH1kJptQnl"
      },
      "execution_count": null,
      "outputs": []
    },
    {
      "cell_type": "code",
      "source": [
        "paises = ['Canada', 'EU', 'México', 'Guatemala', 'Belice', 'Honduras', 'El Salvador', 'Micaragua']\n",
        "paises_antes_de_mexico = paises[0:2]\n",
        "print(paises_antes_de_mexico)"
      ],
      "metadata": {
        "id": "WAkczivPtVbw",
        "colab": {
          "base_uri": "https://localhost:8080/"
        },
        "outputId": "76bfa0b5-97ba-4740-b6f4-e3ddb540d15d"
      },
      "execution_count": null,
      "outputs": [
        {
          "output_type": "stream",
          "name": "stdout",
          "text": [
            "['Canada', 'EU']\n"
          ]
        }
      ]
    },
    {
      "cell_type": "code",
      "source": [
        "paises_despues_de_mexico = paises[3:8]\n",
        "print(paises_despues_de_mexico)"
      ],
      "metadata": {
        "id": "S7mheIwdtXhL",
        "colab": {
          "base_uri": "https://localhost:8080/"
        },
        "outputId": "b89194a4-2ff5-44ab-94c4-f55a6e11afb4"
      },
      "execution_count": null,
      "outputs": [
        {
          "output_type": "stream",
          "name": "stdout",
          "text": [
            "['Guatemala', 'Belice', 'Honduras', 'El Salvador', 'Micaragua']\n"
          ]
        }
      ]
    },
    {
      "cell_type": "code",
      "source": [
        "paises_despues_de_mexico = paises[3:]\n",
        "print(paises_despues_de_mexico)"
      ],
      "metadata": {
        "id": "fD2eTOrdtZj3",
        "colab": {
          "base_uri": "https://localhost:8080/"
        },
        "outputId": "06f90ff1-d280-4a55-85cb-85c9226af263"
      },
      "execution_count": null,
      "outputs": [
        {
          "output_type": "stream",
          "name": "stdout",
          "text": [
            "['Guatemala', 'Belice', 'Honduras', 'El Salvador', 'Micaragua']\n"
          ]
        }
      ]
    },
    {
      "cell_type": "code",
      "source": [
        "paises_norte = ['Canada', 'EU', 'México']\n",
        "paises_centro = ['Guatemala', 'Belice', 'Honduras', 'El Salvador', 'Micaragua']\n",
        "lista_unida = paises_norte  + paises_centro\n",
        "print(lista_unida)"
      ],
      "metadata": {
        "id": "fmB4tz6HtcFf",
        "colab": {
          "base_uri": "https://localhost:8080/"
        },
        "outputId": "b7449068-67ba-4110-afc6-05d99e54005c"
      },
      "execution_count": null,
      "outputs": [
        {
          "output_type": "stream",
          "name": "stdout",
          "text": [
            "['Canada', 'EU', 'México', 'Guatemala', 'Belice', 'Honduras', 'El Salvador', 'Micaragua']\n"
          ]
        }
      ]
    },
    {
      "cell_type": "code",
      "source": [
        "lista_unida.sort()\n",
        "print('La lista ordenada quedaría ', lista_unida)"
      ],
      "metadata": {
        "id": "93Sxknw3teSo"
      },
      "execution_count": null,
      "outputs": []
    },
    {
      "cell_type": "code",
      "source": [
        "lista_unida.sort(reverse=True)\n",
        "print('La lista ordenada quedaría ', lista_unida)"
      ],
      "metadata": {
        "id": "KZZI3yXstg_S"
      },
      "execution_count": null,
      "outputs": []
    },
    {
      "cell_type": "markdown",
      "source": [
        "# EJERCICIO\n",
        "\n",
        "Vamos a crear y manipular una lista que contiene nombres de alumnos, esta lista contedrá los nombres siguientes: 'Juan','Pedro','Beatriz','Angel','Miguel','Paz'\n",
        "\n",
        "A continuación, agrega el código para solicitar al usuario un nombre. Debido a que las cadenas distinguen entre mayúsculas y minúsculas en Python, píde al usuario que use una letra mayúscula para comenzar el nombre del alumno, ingresa tú nombre y agregalo a lista\n",
        "\n",
        "A continuación, agrega el código para solicitar al usuario un nombre a buscar, igresa tu nombre."
      ],
      "metadata": {
        "id": "WqUf0Bvetw0n"
      }
    },
    {
      "cell_type": "markdown",
      "source": [
        "Solicitar dos números e imprimir el resultado de las 4 operaciones básicas\n",
        "\n",
        "preparar un código simple para evaluar o encontrar el tiempo final de un periodo de tiempo dado, expresándolo en horas y minutos."
      ],
      "metadata": {
        "id": "fOcfs80arKYw"
      }
    },
    {
      "cell_type": "code",
      "source": [
        "alumno = {\n",
        "    'nombre':'Juan',\n",
        "    'calificacion': 7\n",
        "}"
      ],
      "metadata": {
        "id": "o6BEPCttrNj2"
      },
      "execution_count": null,
      "outputs": []
    },
    {
      "cell_type": "code",
      "source": [
        "print(alumno.get('nombre'))"
      ],
      "metadata": {
        "id": "yW4Xaw1crP8F"
      },
      "execution_count": null,
      "outputs": []
    },
    {
      "cell_type": "code",
      "source": [
        "# alumno['nombre'] es idéntico a usar alumno.get('nombre')\n",
        "print(alumno['nombre'])"
      ],
      "metadata": {
        "id": "i6u-bVe5rUdF"
      },
      "execution_count": null,
      "outputs": []
    },
    {
      "cell_type": "code",
      "source": [
        "#modificar valores de un diccionario\n",
        "alumno.update({'nombre': 'Beatriz'})\n",
        "print(alumno)"
      ],
      "metadata": {
        "id": "xA_H4GMFr6tf"
      },
      "execution_count": null,
      "outputs": []
    },
    {
      "cell_type": "code",
      "source": [
        "alumno['nombre'] = 'Angel'\n",
        "print(alumno)"
      ],
      "metadata": {
        "id": "deuISrhYr_U8"
      },
      "execution_count": null,
      "outputs": []
    },
    {
      "cell_type": "code",
      "source": [
        "#Adicionar claves\n",
        "alumno['apellido'] = 'Pérez'\n",
        "print(alumno)\n",
        "\n",
        "# el diccionario alumno ahora contiene: {\n",
        "#   nombre: 'Miguel'\n",
        "#   calificcion: 9\n",
        "#   apellido: Pérez\n",
        "# }"
      ],
      "metadata": {
        "id": "pOMChk5usivt"
      },
      "execution_count": null,
      "outputs": []
    },
    {
      "cell_type": "code",
      "source": [
        "#eliminar claves\n",
        "alumno.pop('apellido')\n",
        "print(alumno)"
      ],
      "metadata": {
        "id": "Nw6rxxqssk26"
      },
      "execution_count": null,
      "outputs": []
    },
    {
      "cell_type": "code",
      "source": [
        "#los diccionarios pueden almacenar a otros diccionarios\n",
        "\n",
        "# Añadimos los datos\n",
        "alumno['periodo'] = {\n",
        "    'periodo1': 8,\n",
        "    'periodo2': 9\n",
        "}\n",
        "\n",
        "print(alumno)"
      ],
      "metadata": {
        "id": "R0lisqQRsnH9"
      },
      "execution_count": null,
      "outputs": []
    },
    {
      "cell_type": "markdown",
      "source": [
        "Para este ejercicio, crearás un diccionario que almacene información sobre paises y su población.\n",
        "\n",
        "Agrega el código para crear un nuevo diccionario denominado 'paises'. Rellena con la siguiente información:\n",
        "\n",
        "pais: México\n",
        "\n",
        "habitantes: 127.5 millones\n",
        "\n",
        "imprime el diccionarios usando string f con la información del diccionario\n",
        "\n",
        "Agrega un nuevo valor con una clave de 'datos'. Este nuevo valor debería almacenar un diccionario con dos datos del país:\n",
        "\n",
        "idioma: 'español'\n",
        "\n",
        "moneda: 'peso'"
      ],
      "metadata": {
        "id": "HqXylSzhtd1h"
      }
    },
    {
      "cell_type": "code",
      "source": [
        "import random\n",
        "\n",
        "numero= random.randint(0, 5)\n",
        "\n",
        "numero"
      ],
      "metadata": {
        "colab": {
          "base_uri": "https://localhost:8080/"
        },
        "id": "ni7MFNQ8vX5b",
        "outputId": "ae17f4ea-97c8-465e-9207-0e379b6d6e07"
      },
      "execution_count": null,
      "outputs": [
        {
          "output_type": "execute_result",
          "data": {
            "text/plain": [
              "0"
            ]
          },
          "metadata": {},
          "execution_count": 4
        }
      ]
    },
    {
      "cell_type": "code",
      "source": [
        "lista = [2, 190, False, \"hola\", \"pelota\", 123]\n",
        "alea=random.choice(lista)\n",
        "alea"
      ],
      "metadata": {
        "colab": {
          "base_uri": "https://localhost:8080/"
        },
        "id": "TOqBDqq0xz16",
        "outputId": "f8d58df0-97f0-4860-aa37-a61faf3d0787"
      },
      "execution_count": null,
      "outputs": [
        {
          "output_type": "execute_result",
          "data": {
            "text/plain": [
              "2"
            ]
          },
          "metadata": {},
          "execution_count": 15
        }
      ]
    },
    {
      "cell_type": "code",
      "source": [
        "lista=[]\n",
        "lista.append(random.randint(0,10))\n",
        "lista.append(random.randint(0,10))\n",
        "lista.append(random.randint(0,10))\n",
        "lista.append(random.randint(0,10))\n",
        "lista"
      ],
      "metadata": {
        "colab": {
          "base_uri": "https://localhost:8080/"
        },
        "id": "T5j15ovrx2SB",
        "outputId": "70fd2964-8f75-470f-95b8-265556938561"
      },
      "execution_count": null,
      "outputs": [
        {
          "output_type": "execute_result",
          "data": {
            "text/plain": [
              "[8, 6, 4, 9]"
            ]
          },
          "metadata": {},
          "execution_count": 18
        }
      ]
    },
    {
      "cell_type": "code",
      "source": [
        "2 == 2"
      ],
      "metadata": {
        "id": "43BtIj0dyLrQ"
      },
      "execution_count": null,
      "outputs": []
    },
    {
      "cell_type": "code",
      "source": [
        "'2' == 2"
      ],
      "metadata": {
        "id": "_E3WiOvLyNaw"
      },
      "execution_count": null,
      "outputs": []
    },
    {
      "cell_type": "code",
      "source": [
        "var = 0\n",
        "var != 0"
      ],
      "metadata": {
        "id": "INthrrbFyQng"
      },
      "execution_count": null,
      "outputs": []
    },
    {
      "cell_type": "code",
      "source": [
        "5 >= 5.0"
      ],
      "metadata": {
        "id": "NaSddE58yTWg"
      },
      "execution_count": null,
      "outputs": []
    },
    {
      "cell_type": "code",
      "source": [
        "n = int(input(\"Ingresa un número: \"))\n",
        "print(n > 100)"
      ],
      "metadata": {
        "id": "FH4w5H_dyYY3"
      },
      "execution_count": null,
      "outputs": []
    },
    {
      "cell_type": "code",
      "source": [
        "a = 97\n",
        "b = 55\n",
        "if a < b:\n",
        "    print(b)"
      ],
      "metadata": {
        "id": "0R2Dn1XYyiFM"
      },
      "execution_count": null,
      "outputs": []
    },
    {
      "cell_type": "code",
      "source": [
        "a = 54\n",
        "b = 44\n",
        "if a <= 0:\n",
        "    print(b)\n",
        "print(a)"
      ],
      "metadata": {
        "id": "bLT4O-DLykB3"
      },
      "execution_count": null,
      "outputs": []
    },
    {
      "cell_type": "code",
      "source": [
        "a = 3\n",
        "b = 27\n",
        "if a >= b:\n",
        "    print(a)\n",
        "else:\n",
        "    print(b)"
      ],
      "metadata": {
        "id": "65DvV3jzyo6C"
      },
      "execution_count": null,
      "outputs": []
    },
    {
      "cell_type": "code",
      "source": [
        "a = 93\n",
        "b = 93\n",
        "if a > b:\n",
        "    print(\"a es mayor que b\")\n",
        "elif a == b:\n",
        "    print(\"a es igual que b\")"
      ],
      "metadata": {
        "id": "N-GJ2a2xytgr"
      },
      "execution_count": null,
      "outputs": []
    },
    {
      "cell_type": "code",
      "source": [
        "lenguaje = input(\"Introduce el nombre del lenguaje: \")\n",
        "\n",
        "if lenguaje == \"PYTHON\":\n",
        "    print(\"Si, ¡El Python es el mejor lenguaje de todos los tiempos!\")\n",
        "elif lenguaje == \"python\":\n",
        "    print(\"No, ¡quiero un gran PYTHON!\")\n",
        "else:\n",
        "    print(\"PYTHON!, ¡No\", lenguaje + \"!\")"
      ],
      "metadata": {
        "id": "1JwrFa7aywvS"
      },
      "execution_count": null,
      "outputs": []
    },
    {
      "cell_type": "markdown",
      "source": [
        "### Ejercicio\n",
        "solicitar tres números e imprimir cual es el más grande\n",
        "\n",
        "### Ejercicio\n",
        "Solicitar por consola 3 números y mostrarlos impresos de menor a mayor"
      ],
      "metadata": {
        "id": "lq6l-BfmzD9J"
      }
    },
    {
      "cell_type": "code",
      "source": [
        "a = 23\n",
        "b = 34\n",
        "if a == 34 or b == 34:\n",
        "    print('ok')"
      ],
      "metadata": {
        "id": "FJoW7BNQzXAF"
      },
      "execution_count": null,
      "outputs": []
    },
    {
      "cell_type": "code",
      "source": [
        "a = 23\n",
        "b = 34\n",
        "if a == 34 and b == 34:\n",
        "    print ('ok')"
      ],
      "metadata": {
        "id": "KSVKe5udzY6J"
      },
      "execution_count": null,
      "outputs": []
    },
    {
      "cell_type": "markdown",
      "source": [
        "### Ejercicio\n",
        "Como seguramente sabrás, debido a algunas razones astronómicas, el año puede ser bisiesto o común. Los primeros tienen una duración de 366 días, mientras que los últimos tienen una duración de 365 días.\n",
        "\n",
        "Desde la introducción del calendario Gregoriano (en 1582), se utiliza la siguiente regla para determinar el tipo de año:\n",
        "\n",
        "si el número del año no es divisible entre cuatro, es un año común.\n",
        "de lo contrario, si el número del año no es divisible entre 100, es un año bisiesto.\n",
        "de lo contrario, si el número del año no es divisible entre 400, es un año común.\n",
        "de lo contrario, es un año bisiesto."
      ],
      "metadata": {
        "id": "NcIbXEPOzdKl"
      }
    },
    {
      "cell_type": "code",
      "source": [
        "year = int(input(\"Introduce un año: \"))\n",
        "\n",
        "if year < 1582:\n",
        "\tprint(\"No esta dentro del período del calendario Gregoriano\")\n",
        "else:\n",
        "\tif year % 4 != 0:\n",
        "\t\tprint(\"Año Común\")\n",
        "\telif year % 100 != 0:\n",
        "\t\tprint(\"Año Bisiesto\")\n",
        "\telif year % 400 != 0:\n",
        "\t\tprint(\"Año Común\")\n",
        "\telse:\n",
        "\t\tprint(\"Año Bisiesto\")"
      ],
      "metadata": {
        "id": "-SXMoXnaJLL4"
      },
      "execution_count": null,
      "outputs": []
    },
    {
      "cell_type": "code",
      "source": [
        "#while\n",
        "i = 0\n",
        "while i < 100:\n",
        "    i += 1\n",
        "    print(i)"
      ],
      "metadata": {
        "id": "oJKQoiHdJTqG"
      },
      "execution_count": null,
      "outputs": []
    },
    {
      "cell_type": "code",
      "source": [
        "import time   #libreria para manejar tiempo\n",
        "\n",
        "numero_par = 0\n",
        "numero_impar = 0\n",
        "\n",
        "# Lee el primer número.\n",
        "numero = int(input(\"Introduce un número o escribe 0 para detener: \"))\n",
        "\n",
        "# 0 termina la ejecución.\n",
        "while numero != 0:\n",
        "    # Verificar si el número es impar.\n",
        "    if numero % 2 == 1:\n",
        "        # Incrementar el contador de números impares odd_numbers.\n",
        "        numero_impar += 1\n",
        "    else:\n",
        "        # Incrementar el contador de números pares even_numbers.\n",
        "        numero_par += 1\n",
        "    # Leer el siguiente número.\n",
        "    numero = int(input(\"Introduce un número o escribe 0 para detener: \"))\n",
        "\n",
        "# Imprimir resultados.\n",
        "print(\"Conteo de números impares:\", numero_impar)\n",
        "time.sleep(5)\n",
        "print(\"Conteo de números pares:\", numero_par)"
      ],
      "metadata": {
        "id": "_1bMtfdxJtuE"
      },
      "execution_count": null,
      "outputs": []
    },
    {
      "cell_type": "code",
      "source": [
        "#bucle infinito y while true\n",
        "while True:\n",
        "    print(\"Estoy atrapado dentro de un bucle.\")"
      ],
      "metadata": {
        "id": "Gcdvh02LJzf4"
      },
      "execution_count": null,
      "outputs": []
    },
    {
      "cell_type": "code",
      "source": [
        "while True:\n",
        "    print(\"Estoy atrapado dentro de un bucle.\")\n",
        "    break"
      ],
      "metadata": {
        "id": "JvlLRZgsJ_ns"
      },
      "execution_count": null,
      "outputs": []
    },
    {
      "cell_type": "markdown",
      "source": [
        "## Ejercicio\n",
        "Realizar el juego adivina el número"
      ],
      "metadata": {
        "id": "wa2Xhl91KGSc"
      }
    },
    {
      "cell_type": "code",
      "source": [
        "for i in range(8):\n",
        "    print(i)"
      ],
      "metadata": {
        "id": "j34c43Y3K2kG"
      },
      "execution_count": null,
      "outputs": []
    },
    {
      "cell_type": "code",
      "source": [
        "for i in range(2, 8):\n",
        "    print(i)"
      ],
      "metadata": {
        "id": "bxlVQoGIK5sR"
      },
      "execution_count": null,
      "outputs": []
    },
    {
      "cell_type": "code",
      "source": [
        "for i in range(0,30,3):  #rango\n",
        "    print(i)"
      ],
      "metadata": {
        "id": "9X1UPvKPKrz7"
      },
      "execution_count": null,
      "outputs": []
    },
    {
      "cell_type": "markdown",
      "source": [
        "Nota: el conjunto generado por range() debe ordenarse en un orden ascendente. No hay forma de forzar el range() para crear un conjunto en una forma diferente. Esto significa que el segundo argumento de range() debe ser mayor que el primero."
      ],
      "metadata": {
        "id": "EbWMK8QgLWtO"
      }
    },
    {
      "cell_type": "code",
      "source": [
        "#for con listas\n",
        "paises = ['Canada', 'EU', 'México', 'Guatemala', 'Belice', 'Honduras', 'El Salvador', 'Micaragua']\n",
        "for pais in paises:\n",
        "  print(pais)"
      ],
      "metadata": {
        "id": "z2wrWjHLLbX4"
      },
      "execution_count": null,
      "outputs": []
    },
    {
      "cell_type": "code",
      "source": [
        "conteo = [4, 3, 2, 1, 0]\n",
        "for numero in conteo:\n",
        "    print(numero)\n",
        "    time.sleep(2)\n",
        "\n",
        "print(\"SALIDA!!\")"
      ],
      "metadata": {
        "id": "BmJXA40KLhmV"
      },
      "execution_count": null,
      "outputs": []
    },
    {
      "cell_type": "code",
      "source": [
        "#break\n",
        "print(\"La instrucción break:\")\n",
        "for i in range(1, 6):\n",
        "    if i == 3:\n",
        "        break\n",
        "    print(i)"
      ],
      "metadata": {
        "id": "J7zfVnZ0Ll8n"
      },
      "execution_count": null,
      "outputs": []
    },
    {
      "cell_type": "code",
      "source": [
        "#continue\n",
        "print(\"\\nLa instrucción continue:\")\n",
        "for i in range(1, 6):\n",
        "    if i == 3:\n",
        "        continue\n",
        "    print(i)"
      ],
      "metadata": {
        "id": "l2fU63_FLqBn"
      },
      "execution_count": null,
      "outputs": []
    },
    {
      "cell_type": "code",
      "source": [
        "numero_grande = 0\n",
        "\n",
        "while True:\n",
        "    numero = int(input(\"Ingresa un número o escribe 0 para finalizar el programa: \"))\n",
        "    if numero == 0:\n",
        "        break\n",
        "    if numero > numero_grande:\n",
        "        numero_grande = numero\n",
        "\n",
        "\n",
        "print(\"El número más grande es\", numero_grande)"
      ],
      "metadata": {
        "id": "hTwxWHmVMbjB"
      },
      "execution_count": null,
      "outputs": []
    },
    {
      "cell_type": "code",
      "source": [
        "numero_grande = 0\n",
        "\n",
        "numero = int(input(\"Ingresa un número o escribe 0 para finalizar el programa: \"))\n",
        "\n",
        "while numero != 0:\n",
        "    if numero == 0:\n",
        "        continue\n",
        "\n",
        "    if numero > numero_grande:\n",
        "        numero_grande = numero\n",
        "    numero = int(input(\"Ingresa un número o escribe 0 para finalizar el programa: \"))\n",
        "\n",
        "\n",
        "print(\"El número más grande es\", numero_grande)"
      ],
      "metadata": {
        "id": "daC_aZSfNjdk"
      },
      "execution_count": null,
      "outputs": []
    },
    {
      "cell_type": "markdown",
      "source": [
        "1\n",
        "Tu tarea aquí es muy especial: ¡Debes diseñar un devorador de vocales! Escribe un programa que use:\n",
        "\n",
        "un bucle for;\n",
        "* el concepto de ejecución condicional (if-elif-else).\n",
        "* la sentencia continue.\n",
        "Tu programa debe:\n",
        "\n",
        "* pedir al usuario que ingrese una palabra.\n",
        "* utiliza la ejecución condicional y la instrucción continue para \"devorar\" las siguientes vocales A, E, I, O, U de la palabra ingresada.\n",
        "* imprime las letras no consumidas en la pantalla, cada una de ellas en una línea separada"
      ],
      "metadata": {
        "id": "FEQm2zmXNpfr"
      }
    },
    {
      "cell_type": "markdown",
      "source": [
        "2 Crea un bucle for que cuente de 0 a 10, e imprima números impares en la pantalla."
      ],
      "metadata": {
        "id": "OYJu_EbfN__L"
      }
    },
    {
      "cell_type": "markdown",
      "source": [
        "3 Crea un programa con un bucle for y una sentencia break. El programa debe iterar sobre los caracteres en una dirección de correo electrónico, salir del bucle cuando llegue al símbolo @ e imprimir la parte antes de @ en una línea."
      ],
      "metadata": {
        "id": "fSZM5VUpOFEW"
      }
    },
    {
      "cell_type": "markdown",
      "source": [
        "# POO\n",
        "https://docs.google.com/presentation/d/17GdWdk_hdPkQEr9CPAkV1JcscTy22Z8I246_8AraV3A/edit?usp=sharing"
      ],
      "metadata": {
        "id": "6C18oAoYMjDr"
      }
    },
    {
      "cell_type": "code",
      "source": [
        "class Usuario():\n",
        "    def __init__ (self,nombre,folio,telefono,correo):\n",
        "      self.nombre=nombre\n",
        "      self.folio= folio\n",
        "      self.telefono = telefono\n",
        "      self.correo = correo"
      ],
      "metadata": {
        "id": "3ixIXKC5Mm99"
      },
      "execution_count": null,
      "outputs": []
    },
    {
      "cell_type": "code",
      "source": [
        "#Instanciar un usuario\n",
        "usuario1=Usuario('juan','1212','2323232332','juan@correo.com')"
      ],
      "metadata": {
        "id": "SfDZueCNM7iY"
      },
      "execution_count": null,
      "outputs": []
    },
    {
      "cell_type": "code",
      "source": [
        "usuario2=Usuario('pedro','cdcc343','77464755','pedro@correo.com')"
      ],
      "metadata": {
        "id": "cTEAIEbhNRNA"
      },
      "execution_count": null,
      "outputs": []
    },
    {
      "cell_type": "code",
      "source": [
        "#acceder al nombre\n",
        "usuario2.nombre"
      ],
      "metadata": {
        "id": "fYwhmq0VNVE8"
      },
      "execution_count": null,
      "outputs": []
    },
    {
      "cell_type": "code",
      "source": [
        "#modificando el nombre\n",
        "usuario2.nombre='carlos'\n",
        "usuario2.nombre"
      ],
      "metadata": {
        "id": "FuCQiUIfNe1F"
      },
      "execution_count": null,
      "outputs": []
    },
    {
      "cell_type": "code",
      "source": [
        "#accede a los datos de usario1"
      ],
      "metadata": {
        "id": "lzoLk2gENju3"
      },
      "execution_count": null,
      "outputs": []
    },
    {
      "cell_type": "code",
      "source": [
        "#agregando solo a usuario 1 una ubicación\n",
        "usuario1.ubicacion='CDMX'"
      ],
      "metadata": {
        "id": "wMqZOBFMNoBT"
      },
      "execution_count": null,
      "outputs": []
    },
    {
      "cell_type": "code",
      "source": [
        "print('la ubicacion del usuario es ',usuario1.ubicacion)"
      ],
      "metadata": {
        "id": "0YTCCtI4Nyvb"
      },
      "execution_count": null,
      "outputs": []
    },
    {
      "cell_type": "markdown",
      "source": [
        "clase con método"
      ],
      "metadata": {
        "id": "UW9vrrOsN4ri"
      }
    },
    {
      "cell_type": "code",
      "source": [
        "class Usuario():\n",
        "  def __init__ (self,nombre,folio,telefono,correo):\n",
        "    self.nombre=nombre\n",
        "    self.folio= folio\n",
        "    self.telefono = telefono\n",
        "    self.correo = correo\n",
        "    self.talleres =[]\n",
        "\n",
        "  def mostar_usuario(self):\n",
        "    return f'''    nombre : {self.nombre}\n",
        "    folio: {self.folio}\n",
        "    telefono: {self.telefono}\n",
        "    correo: {self.correo}'''"
      ],
      "metadata": {
        "id": "Fl2NA4k1N7c-"
      },
      "execution_count": null,
      "outputs": []
    },
    {
      "cell_type": "code",
      "source": [
        "usuario3=Usuario('juan','1212','2323232332','juan@correo.com')\n",
        "usuario3.mostar_usuario()"
      ],
      "metadata": {
        "id": "ueGjGv_5OAEI"
      },
      "execution_count": null,
      "outputs": []
    },
    {
      "cell_type": "code",
      "source": [
        "class Usuario():\n",
        "  def __init__ (self,nombre,folio,telefono,correo):\n",
        "    self.nombre=nombre\n",
        "    self.folio= folio\n",
        "    self.telefono = telefono\n",
        "    self.correo = correo\n",
        "    self.talleres =[]\n",
        "\n",
        "  def mostar_usuario(self):\n",
        "    return f'''    nombre : {self.nombre}\n",
        "    folio: {self.folio}\n",
        "    telefono: {self.telefono}\n",
        "    correo: {self.correo}'''\n",
        "\n",
        "  def modificar_usuario(self):\n",
        "    self.nombre = input(f'ingresa el nuevo nombre a cambiar por {self.nombre}')\n",
        "    self.folio = input(f'ingresa el nuevo folio a cambiar por {self.folio}')\n",
        "    self.telefono = input(f'ingresa el nuevo telefono a cambiar por {self.telefono}')\n",
        "    self.correo = input(f'ingresa el nuevo correo a cambiar por {self.correo}')"
      ],
      "metadata": {
        "id": "995MEw5HOKs2"
      },
      "execution_count": null,
      "outputs": []
    },
    {
      "cell_type": "code",
      "source": [
        "usuario3=Usuario('juan','1212','2323232332','juan@correo.com')\n",
        "usuario3.modificar_usuario()"
      ],
      "metadata": {
        "id": "uq5TSbWJOOZv"
      },
      "execution_count": null,
      "outputs": []
    },
    {
      "cell_type": "code",
      "source": [
        "class Usuario():\n",
        "  def __init__ (self,nombre,folio,telefono,correo):\n",
        "    self.nombre=nombre\n",
        "    self.folio= folio\n",
        "    self.telefono = telefono\n",
        "    self.correo = correo\n",
        "    self.talleres =[]\n",
        "\n",
        "  def mostar_usuario(self):\n",
        "    print(f'''nombre : {self.nombre}\n",
        "          folio: {self.folio}\n",
        "          telefono: {self.telefono}\n",
        "          correo: {self.correo}''')\n",
        "\n",
        "  def modificar_usuario(self):\n",
        "    self.nombre = input(f'ingresa el nuevo nombre a cambiar por {self.nombre}')\n",
        "    self.folio = input(f'ingresa el nuevo folio a cambiar por {self.folio}')\n",
        "    self.telefono = input(f'ingresa el nuevo telefono a cambiar por {self.telefono}')\n",
        "    self.correo = input(f'ingresa el nuevo correo a cambiar por {self.correo}')\n",
        "\n",
        "  def checar_taller(self,taller):\n",
        "    if (taller in self.talleres):\n",
        "      return f'el usuario {self.nombre} si esta inscrito en el talller de {taller}'\n",
        "    else:\n",
        "      return f'el usuario no esta en el taller'"
      ],
      "metadata": {
        "id": "hboEwKt2OUbu"
      },
      "execution_count": null,
      "outputs": []
    },
    {
      "cell_type": "code",
      "source": [
        "usuario1=Usuario('david','jnjnc','njnc','ccjdcn')\n",
        "usuario1.talleres.append('huertos')"
      ],
      "metadata": {
        "id": "dYDdm54UOZ6_"
      },
      "execution_count": null,
      "outputs": []
    },
    {
      "cell_type": "code",
      "source": [
        "usuario1.talleres=['codigo','ajedrez','huertos']\n",
        "usuario1.talleres"
      ],
      "metadata": {
        "id": "OAiTdJwEOcKl"
      },
      "execution_count": null,
      "outputs": []
    },
    {
      "cell_type": "code",
      "source": [
        "usuario1.checar_taller('huertos')"
      ],
      "metadata": {
        "id": "jN9JQJJpOd7R"
      },
      "execution_count": null,
      "outputs": []
    },
    {
      "cell_type": "markdown",
      "source": [
        "#HERENCIA"
      ],
      "metadata": {
        "id": "HscPkejlOhrs"
      }
    },
    {
      "cell_type": "code",
      "source": [
        "class Usuario():\n",
        "  def __init__ (self,nombre,folio,telefono,correo):\n",
        "    self.nombre=nombre\n",
        "    self.folio= folio\n",
        "    self.telefono = telefono\n",
        "    self.correo = correo\n",
        "    self.talleres =[]\n",
        "\n",
        "  def mostar_usuario(self):\n",
        "    print(f'''nombre : {self.nombre}\n",
        "          folio: {self.folio}\n",
        "          telefono: {self.telefono}\n",
        "          correo: {self.correo}''')\n",
        "\n",
        "  def modificar_usuario(self):\n",
        "    self.nombre = input(f'ingresa el nuevo nombre a cambiar por {self.nombre}')\n",
        "    self.folio = input(f'ingresa el nuevo folio a cambiar por {self.folio}')\n",
        "    self.telefono = input(f'ingresa el nuevo telefono a cambiar por {self.telefono}')\n",
        "    self.correo = input(f'ingresa el nuevo correo a cambiar por {self.correo}')\n",
        "\n",
        "  def checar_taller(self,taller):\n",
        "    return taller in self.talleres\n",
        "\n",
        "class Usuario_menor(Usuario):\n",
        "  def __init__(self,nombre,folio,telefono,correo,tutor):\n",
        "    self.tutor=tutor\n",
        "    super().__init__(nombre,folio,telefono,correo)"
      ],
      "metadata": {
        "id": "ntlQRyQJOjmu"
      },
      "execution_count": null,
      "outputs": []
    },
    {
      "cell_type": "code",
      "source": [
        "usuario_menor1=Usuario_menor('juan','1212','2323232332','juan@correo.com','pedro')\n",
        "usuario_menor1.tutor"
      ],
      "metadata": {
        "id": "BFtnaS5LOyuN"
      },
      "execution_count": null,
      "outputs": []
    },
    {
      "cell_type": "code",
      "source": [
        "usuario_menor1.nombre"
      ],
      "metadata": {
        "id": "rbFvj79yO1el"
      },
      "execution_count": null,
      "outputs": []
    },
    {
      "cell_type": "code",
      "source": [
        "usuario_menor1.talleres=['pintura','robotica']\n",
        "usuario_menor1.checar_taller('huertos')"
      ],
      "metadata": {
        "id": "TbCEqIKJO30j"
      },
      "execution_count": null,
      "outputs": []
    },
    {
      "cell_type": "markdown",
      "source": [
        "###OTRO EJEMPLO"
      ],
      "metadata": {
        "id": "4juXtG4sO-Xq"
      }
    },
    {
      "cell_type": "code",
      "source": [
        "class Empleado():\n",
        "    def __init__(self, nombre, puesto, sueldo):\n",
        "        self.nombre=nombre\n",
        "        self.puesto=puesto\n",
        "        self.sueldoBruto=sueldo\n",
        "\n",
        "    def calcularSueldo(self, descuentos):\n",
        "        return self.sueldoBruto-descuentos\n",
        "\n",
        "class Gerente(Empleado): #esta clase es hija de la superclase Empleado, pero su metodo calcularSueldo pide parámetros distintos a la super\n",
        "    def calcularSueldo(self, descuentos, bonificaciones):\n",
        "        return self.sueldoBruto-descuentos+bonificaciones\n",
        "\n",
        "marcos=Empleado(\"Marcos Ríos\", 'chofer', 6000) #este es el objeto marcos\n",
        "julia=Gerente(\"Julia Campos\", 'gerente', 20000) #este es el objeto de la clase gerente con los mismos atributos\n",
        "\n",
        "print(marcos.calcularSueldo(3000)) #solo requiere de un atributo\n",
        "\n",
        "print(julia.calcularSueldo(1000, 2000))"
      ],
      "metadata": {
        "id": "5QplJWrHPAUE"
      },
      "execution_count": null,
      "outputs": []
    },
    {
      "cell_type": "markdown",
      "source": [
        "#ENCAPSULAMIENTO"
      ],
      "metadata": {
        "id": "_pd1ZeVBPGfW"
      }
    },
    {
      "cell_type": "code",
      "source": [
        "class Usuario:\n",
        "  def __init__ (self,nombre,folio,telefono,correo):\n",
        "    self._nombre=nombre   #este guion  indicara esta protegido Lo cual establece que solo puede ser accedido por esa clase y sus sub-clases\n",
        "    self.folio= folio\n",
        "    self.telefono = telefono\n",
        "    self.correo = correo\n",
        "    self.talleres =[]\n",
        "\n",
        "usuario6=Usuario('daniel','dfds','554875485','danielcorreo@correo.com')\n",
        "usuario6.nombre  #error\n"
      ],
      "metadata": {
        "id": "mmhu1VF1PKj3"
      },
      "execution_count": null,
      "outputs": []
    },
    {
      "cell_type": "code",
      "source": [
        "usuario6._nombre"
      ],
      "metadata": {
        "id": "majLzk6uPST8"
      },
      "execution_count": null,
      "outputs": []
    },
    {
      "cell_type": "code",
      "source": [
        "class Usuario:\n",
        "  def __init__ (self,nombre,folio,telefono,correo):\n",
        "    self.__nombre=nombre   #este guion doble indicara que es privado solo podrá ser accedido o modificado si se especifica la clase precedida por un guión bajo seguida del atributo precedido por doble guión bajo.\n",
        "    self.folio= folio\n",
        "    self.telefono = telefono\n",
        "    self.correo = correo\n",
        "    self.talleres =[]\n",
        "\n",
        "usuario7=Usuario('daniel','dfds','554875485','danielcorreo@correo.com')\n",
        "usuario7.__nombre  #error"
      ],
      "metadata": {
        "id": "Mjjma6_WPTb8"
      },
      "execution_count": null,
      "outputs": []
    },
    {
      "cell_type": "code",
      "source": [
        "usuario7._Usuario__nombre"
      ],
      "metadata": {
        "id": "6KchF3o8PYI0"
      },
      "execution_count": null,
      "outputs": []
    },
    {
      "cell_type": "code",
      "source": [
        "class Usuario:\n",
        "  def __init__ (self,nombre,folio,telefono,correo):\n",
        "    self.__nombre=nombre\n",
        "    self.folio= folio\n",
        "    self.telefono = telefono\n",
        "    self.correo = correo\n",
        "    self.talleres =[]\n",
        "\n",
        "  @property\n",
        "  def nombre(self):\n",
        "    return self.__nombre\n",
        "\n",
        "\n",
        "  @nombre.setter #Propiedad SETTER\n",
        "  def nombre(self, nuevo):\n",
        "      print (\"Modificando nombre..\")\n",
        "      self.__nombre = nuevo\n",
        "      print (\"El nombre se ha modificado por\")\n",
        "      print (self.__nombre) #Aquí vuelvo a pedir que retorne el atributo para confirmar"
      ],
      "metadata": {
        "id": "b42vVN6_Pb4z"
      },
      "execution_count": null,
      "outputs": []
    },
    {
      "cell_type": "code",
      "source": [
        "usuario7=Usuario('daniel','dfds','554875485','danielcorreo@correo.com')\n",
        "usuario7.nombre='pedro'\n",
        "usuario7.nombre"
      ],
      "metadata": {
        "id": "vmyLNhVGPeqd"
      },
      "execution_count": null,
      "outputs": []
    },
    {
      "cell_type": "markdown",
      "source": [
        "###OTRO EJEMPLO"
      ],
      "metadata": {
        "id": "SOhuNMeTPokf"
      }
    },
    {
      "cell_type": "code",
      "source": [
        "class Usuario:\n",
        "  def __init__ (self,nombre,folio,telefono,correo):\n",
        "    self.__nombre=nombre\n",
        "    self.__folio= folio\n",
        "    self.__telefono = telefono\n",
        "    self.__correo = correo\n",
        "\n",
        "  @property\n",
        "  def nombre(self):\n",
        "    return self.__nombre\n",
        "\n",
        "  @nombre.setter #Propiedad SETTER\n",
        "  def nombre(self, nuevo):\n",
        "    self.__nombre=nuevo\n",
        "    return self.__nombre\n",
        "\n",
        "  @property\n",
        "  def folio(self):\n",
        "    return self.__folio\n",
        "\n",
        "  @folio.setter #Propiedad SETTER\n",
        "  def folio(self, nuevofolio):\n",
        "    self.__folio=nuevofolio\n",
        "    return self.__folio\n",
        "\n",
        "  @property\n",
        "  def telefono(self):\n",
        "    return self.__telefono\n",
        "\n",
        "  @telefono.setter #Propiedad SETTER\n",
        "  def telefono(self, nuevotelefono):\n",
        "    self.__telefono=nuevotelefono\n",
        "    return self.__telefono\n",
        "\n",
        "  @property\n",
        "  def correo(self):\n",
        "    return self.__correo\n",
        "\n",
        "  @correo.setter #Propiedad SETTER\n",
        "  def correo(self, nuevocorreo):\n",
        "    self.__correo=nuevocorreo\n",
        "    return self.__correo\n",
        "\n",
        "  def mostrar(self):\n",
        "    return \"Nombre:\" + self.nombre + \" - Folio:\"+self.folio + \" - telefono:\" + self.telefono + \" - correo \" + self.correo\n",
        "\n",
        "  def checar_taller(self,taller):\n",
        "    if (taller in self.talleres):\n",
        "      return f'el usuario {self.nombre} si esta inscrito en el talller de {taller}'\n",
        "    else:\n",
        "      return f'el usuario no esta en el taller'\n",
        "\n",
        "  def jugar(self):\n",
        "    import time\n",
        "    print('BINVENIDO ',self.__nombre)\n",
        "    print('''-------------------------------------------\n",
        "    -------ADIVINA EL NÚMERO SECRETO-------------\n",
        "    ---------TIENES 5 OPORTUNIDADES--------------\n",
        "    ---------------------------------------------''')\n",
        "    time.sleep(5)\n",
        "    import random\n",
        "    numero_secreto = random.randint(1,100)\n",
        "    num =int(input('Adivina el número secreto'))\n",
        "    opor = 1\n",
        "    while numero_secreto != num and opor < 6:\n",
        "      opor = opor + 1\n",
        "      if num < numero_secreto:\n",
        "        print(f'{num} es menor al número secreto')\n",
        "\n",
        "      else:\n",
        "        print(f'{num} es mayor al número secreto')\n",
        "      num =int(input('Adivina el número secreto'))\n",
        "    if num == numero_secreto:\n",
        "      print(f'felicidades!!!!!{self.__nombre} has atinado al número en {opor} oportunidades')\n",
        "    else:\n",
        "      print(f'lástima!!!!!{self.__nombre} se terminaron tus oportunidades, el número secreto era {numero_secreto}')\n",
        "\n"
      ],
      "metadata": {
        "id": "J1T52AgNPrZh"
      },
      "execution_count": null,
      "outputs": []
    },
    {
      "cell_type": "code",
      "source": [
        "usuario9=Usuario('daniel','dfds','554875485','danielcorreo@correo.com')\n",
        "usuario9.nombre='jose'\n",
        "usuario9.mostrar()"
      ],
      "metadata": {
        "id": "aR1cPK65Pxo8"
      },
      "execution_count": null,
      "outputs": []
    },
    {
      "cell_type": "code",
      "source": [
        "usuario9.jugar()"
      ],
      "metadata": {
        "id": "gLkc0fX5Pzgc"
      },
      "execution_count": null,
      "outputs": []
    },
    {
      "cell_type": "markdown",
      "source": [
        "https://docs.python.org/3/library/functions.html."
      ],
      "metadata": {
        "id": "9h5Y0Bo9F8N4"
      }
    },
    {
      "cell_type": "code",
      "execution_count": null,
      "metadata": {
        "id": "UqWdpqhEFOEa"
      },
      "outputs": [],
      "source": [
        "print(\"Ingresa un valor: \")\n",
        "a = int(input())\n",
        "\n",
        "print(\"Ingresa un valor: \")\n",
        "b = int(input())\n",
        "\n",
        "print(\"Ingresa un valor: \")\n",
        "c = int(input())"
      ]
    },
    {
      "cell_type": "code",
      "source": [
        "def mensaje():\n",
        "    print(\"Ingresar valor: \")\n",
        "\n",
        "mensaje()"
      ],
      "metadata": {
        "id": "lQjpdERMFzci"
      },
      "execution_count": null,
      "outputs": []
    },
    {
      "cell_type": "code",
      "source": [
        "def mensaje():\n",
        "    print(\"Ingresar valor: \")\n",
        "\n",
        "mensaje()\n",
        "a = int(input())\n",
        "mensaje()\n",
        "b = int(input())\n",
        "mensaje()\n",
        "c = int(input())"
      ],
      "metadata": {
        "id": "kQZ_c7gGF1nh"
      },
      "execution_count": null,
      "outputs": []
    },
    {
      "cell_type": "code",
      "source": [
        "def mensaje():\n",
        "    print(\"Hello\")\n",
        "\n",
        "mensaje()"
      ],
      "metadata": {
        "id": "X58Rv05hGC2W"
      },
      "execution_count": null,
      "outputs": []
    },
    {
      "cell_type": "code",
      "source": [
        "def hello(name):\n",
        "    print(\"Hello,\", name)\n",
        "\n",
        "\n",
        "name = input(\"Ingresa tu nombre: \")\n",
        "\n",
        "hello(name)"
      ],
      "metadata": {
        "id": "GWf8IAnrGLJe"
      },
      "execution_count": null,
      "outputs": []
    },
    {
      "cell_type": "code",
      "source": [
        "def mensaje(numero):\n",
        "    print(\"Ingresa un número:\", numero)\n",
        "\n",
        "mensaje()"
      ],
      "metadata": {
        "id": "8vLBsb7pGbX9"
      },
      "execution_count": null,
      "outputs": []
    },
    {
      "cell_type": "code",
      "source": [
        "def message(number):   #parametro\n",
        "    print(\"Ingresa un número:\", number)\n",
        "\n",
        "message(1) #argumento"
      ],
      "metadata": {
        "id": "vK7EuzOtGknI"
      },
      "execution_count": null,
      "outputs": []
    },
    {
      "cell_type": "code",
      "source": [
        "def nombres(primer_nombre, apellido):\n",
        "    print(\"Hola, mi nombre es\", primer_nombre, apellido)\n",
        "\n",
        "nombres(\"Juan\", \"Pérez\")\n",
        "nombres(\"Miguel\", \"Gónzaez\")\n",
        "nombres(\"Clara\", \"López\")"
      ],
      "metadata": {
        "id": "3OarbfaQGucg"
      },
      "execution_count": null,
      "outputs": []
    },
    {
      "cell_type": "code",
      "source": [
        "def nombres(primer_nombre, apellido):\n",
        "    print(\"Hola, mi nombre es\", primer_nombre, apellido)\n",
        "\n",
        "nombres(primer_nombre = \"Juan\", apellido = \"Pérez\")\n",
        "nombres(apellido = \"Silvia\", primer_nombre = \"López\")"
      ],
      "metadata": {
        "id": "-nDZdt9CHDip"
      },
      "execution_count": null,
      "outputs": []
    },
    {
      "cell_type": "code",
      "source": [
        "def una_funcion():\n",
        "  a=5*8\n",
        "  b=10.3+6\n",
        "  return 123\n",
        "\n",
        "una_funcion()"
      ],
      "metadata": {
        "colab": {
          "base_uri": "https://localhost:8080/"
        },
        "id": "fVpmiHFTHTJk",
        "outputId": "b0d4de76-b84a-47b7-ab5f-a54bb20187d7"
      },
      "execution_count": null,
      "outputs": [
        {
          "output_type": "execute_result",
          "data": {
            "text/plain": [
              "163"
            ]
          },
          "metadata": {},
          "execution_count": 11
        }
      ]
    },
    {
      "cell_type": "code",
      "source": [
        "def extraña_funcion(n):\n",
        "    if(n % 2 == 0):\n",
        "        return True\n",
        "\n",
        "print(extraña_funcion(2))\n",
        "print(extraña_funcion(1))"
      ],
      "metadata": {
        "id": "IsFaRAz6H0Hz"
      },
      "execution_count": null,
      "outputs": []
    },
    {
      "cell_type": "code",
      "source": [
        "def menu():\n",
        "    print(\"App de operaciones.\")\n",
        "    print(\"1. Suma\")\n",
        "    print(\"2. Resta\")\n",
        "    print(\"3. Multiplicacion\")\n",
        "    print(\"4. Division\")\n",
        "    print(\"5. Salir\")\n",
        "    op = int(input(\"Escriba la opcion:\"))\n",
        "    if op==1:\n",
        "      suma()\n",
        "    elif op==2:\n",
        "      resta()\n",
        "    elif op==3:\n",
        "      multiplicacion()\n",
        "    elif op==4:\n",
        "      division()\n",
        "    else:\n",
        "      exit()\n",
        "\n",
        "\n",
        "\n",
        "menu()"
      ],
      "metadata": {
        "id": "aeEkJQNwIyJQ"
      },
      "execution_count": null,
      "outputs": []
    },
    {
      "cell_type": "code",
      "source": [
        "def multiple(numero):\n",
        "  if numero % 5 == 0:\n",
        "    return True\n",
        "\n",
        "numeros = [2, 5, 10, 23, 50, 30, 33,35]\n",
        "\n",
        "filter(multiple, numeros)"
      ],
      "metadata": {
        "id": "Af0WZHZ5H6o-"
      },
      "execution_count": null,
      "outputs": []
    },
    {
      "cell_type": "code",
      "source": [
        "list(filter(multiple, numeros))"
      ],
      "metadata": {
        "id": "knGvtF3ZH8z6"
      },
      "execution_count": null,
      "outputs": []
    },
    {
      "cell_type": "code",
      "source": [
        "def doble(numero):\n",
        "    return numero*2\n",
        "\n",
        "numeros = [2, 5, 10, 23, 50, 33]\n",
        "\n",
        "map(doble, numeros)"
      ],
      "metadata": {
        "id": "33tXmd18H-8a"
      },
      "execution_count": null,
      "outputs": []
    },
    {
      "cell_type": "code",
      "source": [
        "list(map(doble, numeros)) #para mostrarlo en lista"
      ],
      "metadata": {
        "id": "_F1yalleIA0K"
      },
      "execution_count": null,
      "outputs": []
    },
    {
      "cell_type": "code",
      "source": [
        "frase= 'Hola Luis, como estas?'\n",
        "def longitud_palabras(frase):\n",
        "    palabra_len = list(map(len, frase.split()))\n",
        "    return palabra_len\n",
        "\n",
        "longitud_palabras(frase)"
      ],
      "metadata": {
        "id": "7TRB0-wUIDcK"
      },
      "execution_count": null,
      "outputs": []
    },
    {
      "cell_type": "code",
      "source": [
        "from functools import reduce   #traemos el módulo para poder utiliarla\n",
        "\n",
        "def add(x, y):\n",
        "    return x + y\n",
        "\n",
        "lista = [2, 4, 7, 3]\n",
        "print(reduce(add, lista))"
      ],
      "metadata": {
        "id": "3WQZ-npKIJsC"
      },
      "execution_count": null,
      "outputs": []
    },
    {
      "cell_type": "code",
      "source": [
        "def suma(x,y):\n",
        "  return(x + y)\n",
        "\n",
        "suma(5,7)"
      ],
      "metadata": {
        "id": "Qw1PTeKGILwn"
      },
      "execution_count": null,
      "outputs": []
    },
    {
      "cell_type": "code",
      "source": [
        "lambda x,y : x+ y\n",
        "\n",
        "#Para poder utilizarla necesitamos guardarla en una variable\n",
        "suma = lambda x,y : x + y\n",
        "suma(5,7)"
      ],
      "metadata": {
        "id": "5dzYHI5mINiB"
      },
      "execution_count": null,
      "outputs": []
    },
    {
      "cell_type": "markdown",
      "source": [
        "1 - Realiza un programa que solicite dos números y una operación (suma, resta, división y multiplicación) e imprima el resultado.\n",
        "\n",
        "Además deberá mostrar un menú con las siguientes opciones:\n",
        "\n",
        "Mostrar números\n",
        "\n",
        "Sumar\n",
        "\n",
        "Restar\n",
        "\n",
        "Dividir (considerar la división entre 0)\n",
        "\n",
        "multipicar\n",
        "\n",
        "cerrar calculadora"
      ],
      "metadata": {
        "id": "jgD8UflkIuIQ"
      }
    },
    {
      "cell_type": "code",
      "source": [
        "from functools import reduce\n",
        "\n",
        "# Función para sumar todos los elementos de una lista\n",
        "def suma(a, b):\n",
        "    return a + b\n",
        "\n"
      ],
      "metadata": {
        "id": "GunvSAvZKww0"
      },
      "execution_count": null,
      "outputs": []
    },
    {
      "cell_type": "code",
      "source": [
        "# Ejemplo de uso de reduce\n",
        "lista = [1, 2, 3, 4, 5]\n",
        "resultado_reduce = reduce(suma, lista)\n",
        "print(\"Resultado de reduce:\", resultado_reduce)\n",
        "\n"
      ],
      "metadata": {
        "id": "iTV_Iu-tj1OA"
      },
      "execution_count": null,
      "outputs": []
    },
    {
      "cell_type": "code",
      "source": [
        "# Función para multiplicar un número por 2\n",
        "def multiplicar_por_cinco(num):\n",
        "    return num * 5\n",
        "\n"
      ],
      "metadata": {
        "id": "YqqfmHMHj3PE"
      },
      "execution_count": null,
      "outputs": []
    },
    {
      "cell_type": "code",
      "source": [
        "# Ejemplo de uso de map\n",
        "lista = [1, 2, 3, 4, 5]\n",
        "resultado_map = list(map(multiplicar_por_dos, lista))\n",
        "print(\"Resultado de map:\", resultado_map)\n",
        "\n"
      ],
      "metadata": {
        "id": "mML4Zqgqj45r"
      },
      "execution_count": null,
      "outputs": []
    },
    {
      "cell_type": "code",
      "source": [
        "# Función para verificar si un número es par\n",
        "def es_par(num):\n",
        "    return num % 2 == 0\n"
      ],
      "metadata": {
        "id": "eF9svqrSj6fR"
      },
      "execution_count": null,
      "outputs": []
    },
    {
      "cell_type": "code",
      "source": [
        "\n",
        "# Ejemplo de uso de filter\n",
        "lista = [1, 2, 3, 4, 5]\n",
        "resultado_filter = list(filter(es_par, lista))\n",
        "print(\"Resultado de filter:\", resultado_filter)"
      ],
      "metadata": {
        "id": "-AZiD6Qsj8Cl"
      },
      "execution_count": null,
      "outputs": []
    },
    {
      "cell_type": "code",
      "source": [
        "lista = []\n",
        "for letra in 'casa':\n",
        "  lista.append(letra)\n",
        "print(lista)"
      ],
      "metadata": {
        "id": "6YXNRbxtMGep"
      },
      "execution_count": null,
      "outputs": []
    },
    {
      "cell_type": "code",
      "source": [
        "lista = [letra for letra in 'casa']\n",
        "print(lista)"
      ],
      "metadata": {
        "id": "LZvP3HG8MIXC"
      },
      "execution_count": null,
      "outputs": []
    },
    {
      "cell_type": "code",
      "source": [
        "lista = []\n",
        "for numero in range(0,11):\n",
        "  lista.append(numero**2)\n",
        "print(lista)"
      ],
      "metadata": {
        "id": "6kU5I2H6MKEz"
      },
      "execution_count": null,
      "outputs": []
    },
    {
      "cell_type": "code",
      "source": [
        "lista = [numero**2 for numero in range(0,11)]\n",
        "\n",
        "print(lista)"
      ],
      "metadata": {
        "id": "AWeXYN-6MMKR"
      },
      "execution_count": null,
      "outputs": []
    }
  ]
}
